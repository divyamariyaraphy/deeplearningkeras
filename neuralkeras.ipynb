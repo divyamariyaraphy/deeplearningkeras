{
  "nbformat": 4,
  "nbformat_minor": 0,
  "metadata": {
    "colab": {
      "name": "neuralkeras.ipynb",
      "provenance": []
    },
    "kernelspec": {
      "name": "python3",
      "display_name": "Python 3"
    }
  },
  "cells": [
    {
      "cell_type": "code",
      "metadata": {
        "id": "uZdgUbdWYn6D",
        "colab_type": "code",
        "colab": {}
      },
      "source": [
        "import numpy as np\n",
        "import pandas as pd\n",
        "import matplotlib.pyplot as plt\n",
        "from sklearn.datasets import load_breast_cancer"
      ],
      "execution_count": 0,
      "outputs": []
    },
    {
      "cell_type": "code",
      "metadata": {
        "id": "kTJAV79pZEeI",
        "colab_type": "code",
        "outputId": "bedad657-2061-420f-c282-92eb22d1de71",
        "colab": {
          "base_uri": "https://localhost:8080/",
          "height": 64
        }
      },
      "source": [
        "import tensorflow as tf\n",
        "from tensorflow import keras"
      ],
      "execution_count": 0,
      "outputs": [
        {
          "output_type": "display_data",
          "data": {
            "text/html": [
              "<p style=\"color: red;\">\n",
              "The default version of TensorFlow in Colab will soon switch to TensorFlow 2.x.<br>\n",
              "We recommend you <a href=\"https://www.tensorflow.org/guide/migrate\" target=\"_blank\">upgrade</a> now \n",
              "or ensure your notebook will continue to use TensorFlow 1.x via the <code>%tensorflow_version 1.x</code> magic:\n",
              "<a href=\"https://colab.research.google.com/notebooks/tensorflow_version.ipynb\" target=\"_blank\">more info</a>.</p>\n"
            ],
            "text/plain": [
              "<IPython.core.display.HTML object>"
            ]
          },
          "metadata": {
            "tags": []
          }
        }
      ]
    },
    {
      "cell_type": "code",
      "metadata": {
        "id": "syjGYUmAZJrh",
        "colab_type": "code",
        "colab": {}
      },
      "source": [
        "tf.set_random_seed(42)\n",
        "np.random.seed(42)"
      ],
      "execution_count": 0,
      "outputs": []
    },
    {
      "cell_type": "code",
      "metadata": {
        "id": "x2AO_fu8ZhGQ",
        "colab_type": "code",
        "colab": {}
      },
      "source": [
        "# Loading the dataset\n",
        "cancerDataset = load_breast_cancer()\n",
        "# Load the attributes and target in X and y\n",
        "X = cancerDataset.data\n",
        "y = cancerDataset.target"
      ],
      "execution_count": 0,
      "outputs": []
    },
    {
      "cell_type": "code",
      "metadata": {
        "id": "NHSZm6z1ZifI",
        "colab_type": "code",
        "colab": {}
      },
      "source": [
        "# Split the data into 80% training and 20% testing\n",
        "from sklearn.model_selection import train_test_split\n",
        "X_train, X_test, y_train, y_test = train_test_split(X, y, test_size=0.2,\n",
        "stratify=y, random_state=42)\n",
        "\n",
        "# Feature scaling using Standardization\n",
        "from sklearn.preprocessing import StandardScaler\n",
        "sc = StandardScaler()"
      ],
      "execution_count": 0,
      "outputs": []
    },
    {
      "cell_type": "code",
      "metadata": {
        "id": "04_87ubfZylG",
        "colab_type": "code",
        "colab": {}
      },
      "source": [
        "# Training the feature scaling parameters\n",
        "sc.fit(X_train)\n",
        "# Applying transformations to both training and testing set\n",
        "X_train_std = sc.transform(X_train)\n",
        "X_test_std = sc.transform(X_test)"
      ],
      "execution_count": 0,
      "outputs": []
    },
    {
      "cell_type": "code",
      "metadata": {
        "id": "_UPl8WQWaFkm",
        "colab_type": "code",
        "outputId": "0717292c-7fee-4a59-c500-151086503377",
        "colab": {
          "base_uri": "https://localhost:8080/",
          "height": 298
        }
      },
      "source": [
        "# Create neural network using keras API\n",
        "# Sequential() does linear stacking of layers\n",
        "model_MLP = keras.models.Sequential()\n",
        "# Hidden layer definitions\n",
        "model_MLP.add(keras.layers.Dense(units=5, activation='relu',\n",
        "input_shape= X_train.shape[1:]))\n",
        "# Output layer definitions\n",
        "model_MLP.add(keras.layers.Dense(units=1, activation='sigmoid'))\n",
        "\n",
        "# Print the summary of network architecture\n",
        "model_MLP.summary()"
      ],
      "execution_count": 0,
      "outputs": [
        {
          "output_type": "stream",
          "text": [
            "WARNING:tensorflow:From /usr/local/lib/python3.6/dist-packages/tensorflow_core/python/ops/resource_variable_ops.py:1630: calling BaseResourceVariable.__init__ (from tensorflow.python.ops.resource_variable_ops) with constraint is deprecated and will be removed in a future version.\n",
            "Instructions for updating:\n",
            "If using Keras pass *_constraint arguments to layers.\n",
            "Model: \"sequential\"\n",
            "_________________________________________________________________\n",
            "Layer (type)                 Output Shape              Param #   \n",
            "=================================================================\n",
            "dense (Dense)                (None, 5)                 155       \n",
            "_________________________________________________________________\n",
            "dense_1 (Dense)              (None, 1)                 6         \n",
            "=================================================================\n",
            "Total params: 161\n",
            "Trainable params: 161\n",
            "Non-trainable params: 0\n",
            "_________________________________________________________________\n"
          ],
          "name": "stdout"
        }
      ]
    },
    {
      "cell_type": "code",
      "metadata": {
        "id": "drrctJGZaT9t",
        "colab_type": "code",
        "outputId": "dd54626a-ebb6-4997-88c3-3f382e6ffa5f",
        "colab": {
          "base_uri": "https://localhost:8080/",
          "height": 89
        }
      },
      "source": [
        "model_MLP.compile(loss='binary_crossentropy', optimizer='adam',metrics=['accuracy'])"
      ],
      "execution_count": 0,
      "outputs": [
        {
          "output_type": "stream",
          "text": [
            "WARNING:tensorflow:From /usr/local/lib/python3.6/dist-packages/tensorflow_core/python/ops/nn_impl.py:183: where (from tensorflow.python.ops.array_ops) is deprecated and will be removed in a future version.\n",
            "Instructions for updating:\n",
            "Use tf.where in 2.0, which has the same broadcast rule as np.where\n"
          ],
          "name": "stdout"
        }
      ]
    },
    {
      "cell_type": "code",
      "metadata": {
        "id": "TLFHfXdGakIR",
        "colab_type": "code",
        "outputId": "a826143a-033f-4ca0-db51-344bc987ba01",
        "colab": {
          "base_uri": "https://localhost:8080/",
          "height": 1000
        }
      },
      "source": [
        "model_MLP.fit(x=X_train_std, y=y_train, validation_split=0.1,epochs=50, batch_size=16)"
      ],
      "execution_count": 0,
      "outputs": [
        {
          "output_type": "stream",
          "text": [
            "Train on 409 samples, validate on 46 samples\n",
            "Epoch 1/50\n",
            "409/409 [==============================] - 0s 691us/sample - loss: 1.1692 - acc: 0.3521 - val_loss: 1.0637 - val_acc: 0.2826\n",
            "Epoch 2/50\n",
            "409/409 [==============================] - 0s 118us/sample - loss: 0.9171 - acc: 0.4645 - val_loss: 0.8714 - val_acc: 0.3696\n",
            "Epoch 3/50\n",
            "409/409 [==============================] - 0s 94us/sample - loss: 0.7263 - acc: 0.5746 - val_loss: 0.7354 - val_acc: 0.4565\n",
            "Epoch 4/50\n",
            "409/409 [==============================] - 0s 104us/sample - loss: 0.5894 - acc: 0.6601 - val_loss: 0.6418 - val_acc: 0.5000\n",
            "Epoch 5/50\n",
            "409/409 [==============================] - 0s 103us/sample - loss: 0.4915 - acc: 0.7237 - val_loss: 0.5690 - val_acc: 0.5652\n",
            "Epoch 6/50\n",
            "409/409 [==============================] - 0s 90us/sample - loss: 0.4240 - acc: 0.7579 - val_loss: 0.5122 - val_acc: 0.6304\n",
            "Epoch 7/50\n",
            "409/409 [==============================] - 0s 93us/sample - loss: 0.3732 - acc: 0.7873 - val_loss: 0.4720 - val_acc: 0.6304\n",
            "Epoch 8/50\n",
            "409/409 [==============================] - 0s 95us/sample - loss: 0.3365 - acc: 0.8166 - val_loss: 0.4395 - val_acc: 0.6957\n",
            "Epoch 9/50\n",
            "409/409 [==============================] - 0s 93us/sample - loss: 0.3081 - acc: 0.8313 - val_loss: 0.4088 - val_acc: 0.7174\n",
            "Epoch 10/50\n",
            "409/409 [==============================] - 0s 99us/sample - loss: 0.2842 - acc: 0.8557 - val_loss: 0.3806 - val_acc: 0.7826\n",
            "Epoch 11/50\n",
            "409/409 [==============================] - 0s 99us/sample - loss: 0.2621 - acc: 0.8973 - val_loss: 0.3522 - val_acc: 0.8696\n",
            "Epoch 12/50\n",
            "409/409 [==============================] - 0s 90us/sample - loss: 0.2414 - acc: 0.9242 - val_loss: 0.3304 - val_acc: 0.8696\n",
            "Epoch 13/50\n",
            "409/409 [==============================] - 0s 102us/sample - loss: 0.2238 - acc: 0.9267 - val_loss: 0.3051 - val_acc: 0.8696\n",
            "Epoch 14/50\n",
            "409/409 [==============================] - 0s 93us/sample - loss: 0.2074 - acc: 0.9364 - val_loss: 0.2824 - val_acc: 0.8696\n",
            "Epoch 15/50\n",
            "409/409 [==============================] - 0s 97us/sample - loss: 0.1936 - acc: 0.9389 - val_loss: 0.2633 - val_acc: 0.8913\n",
            "Epoch 16/50\n",
            "409/409 [==============================] - 0s 93us/sample - loss: 0.1810 - acc: 0.9413 - val_loss: 0.2472 - val_acc: 0.8913\n",
            "Epoch 17/50\n",
            "409/409 [==============================] - 0s 95us/sample - loss: 0.1703 - acc: 0.9438 - val_loss: 0.2350 - val_acc: 0.9130\n",
            "Epoch 18/50\n",
            "409/409 [==============================] - 0s 96us/sample - loss: 0.1613 - acc: 0.9413 - val_loss: 0.2241 - val_acc: 0.9130\n",
            "Epoch 19/50\n",
            "409/409 [==============================] - 0s 100us/sample - loss: 0.1535 - acc: 0.9462 - val_loss: 0.2142 - val_acc: 0.9348\n",
            "Epoch 20/50\n",
            "409/409 [==============================] - 0s 111us/sample - loss: 0.1466 - acc: 0.9487 - val_loss: 0.2055 - val_acc: 0.9348\n",
            "Epoch 21/50\n",
            "409/409 [==============================] - 0s 107us/sample - loss: 0.1408 - acc: 0.9511 - val_loss: 0.1972 - val_acc: 0.9348\n",
            "Epoch 22/50\n",
            "409/409 [==============================] - 0s 92us/sample - loss: 0.1352 - acc: 0.9535 - val_loss: 0.1899 - val_acc: 0.9348\n",
            "Epoch 23/50\n",
            "409/409 [==============================] - 0s 101us/sample - loss: 0.1305 - acc: 0.9560 - val_loss: 0.1832 - val_acc: 0.9348\n",
            "Epoch 24/50\n",
            "409/409 [==============================] - 0s 101us/sample - loss: 0.1260 - acc: 0.9560 - val_loss: 0.1756 - val_acc: 0.9348\n",
            "Epoch 25/50\n",
            "409/409 [==============================] - 0s 94us/sample - loss: 0.1218 - acc: 0.9609 - val_loss: 0.1699 - val_acc: 0.9348\n",
            "Epoch 26/50\n",
            "409/409 [==============================] - 0s 97us/sample - loss: 0.1181 - acc: 0.9609 - val_loss: 0.1633 - val_acc: 0.9348\n",
            "Epoch 27/50\n",
            "409/409 [==============================] - 0s 96us/sample - loss: 0.1145 - acc: 0.9609 - val_loss: 0.1589 - val_acc: 0.9348\n",
            "Epoch 28/50\n",
            "409/409 [==============================] - 0s 97us/sample - loss: 0.1113 - acc: 0.9584 - val_loss: 0.1531 - val_acc: 0.9348\n",
            "Epoch 29/50\n",
            "409/409 [==============================] - 0s 95us/sample - loss: 0.1084 - acc: 0.9658 - val_loss: 0.1483 - val_acc: 0.9348\n",
            "Epoch 30/50\n",
            "409/409 [==============================] - 0s 92us/sample - loss: 0.1056 - acc: 0.9658 - val_loss: 0.1450 - val_acc: 0.9348\n",
            "Epoch 31/50\n",
            "409/409 [==============================] - 0s 90us/sample - loss: 0.1030 - acc: 0.9682 - val_loss: 0.1396 - val_acc: 0.9348\n",
            "Epoch 32/50\n",
            "409/409 [==============================] - 0s 87us/sample - loss: 0.1002 - acc: 0.9707 - val_loss: 0.1350 - val_acc: 0.9565\n",
            "Epoch 33/50\n",
            "409/409 [==============================] - 0s 93us/sample - loss: 0.0978 - acc: 0.9707 - val_loss: 0.1323 - val_acc: 0.9565\n",
            "Epoch 34/50\n",
            "409/409 [==============================] - 0s 98us/sample - loss: 0.0953 - acc: 0.9707 - val_loss: 0.1281 - val_acc: 0.9565\n",
            "Epoch 35/50\n",
            "409/409 [==============================] - 0s 93us/sample - loss: 0.0932 - acc: 0.9707 - val_loss: 0.1238 - val_acc: 0.9565\n",
            "Epoch 36/50\n",
            "409/409 [==============================] - 0s 102us/sample - loss: 0.0911 - acc: 0.9731 - val_loss: 0.1202 - val_acc: 0.9565\n",
            "Epoch 37/50\n",
            "409/409 [==============================] - 0s 92us/sample - loss: 0.0892 - acc: 0.9731 - val_loss: 0.1166 - val_acc: 0.9565\n",
            "Epoch 38/50\n",
            "409/409 [==============================] - 0s 93us/sample - loss: 0.0874 - acc: 0.9731 - val_loss: 0.1148 - val_acc: 0.9565\n",
            "Epoch 39/50\n",
            "409/409 [==============================] - 0s 97us/sample - loss: 0.0858 - acc: 0.9731 - val_loss: 0.1123 - val_acc: 0.9565\n",
            "Epoch 40/50\n",
            "409/409 [==============================] - 0s 91us/sample - loss: 0.0841 - acc: 0.9731 - val_loss: 0.1097 - val_acc: 0.9565\n",
            "Epoch 41/50\n",
            "409/409 [==============================] - 0s 92us/sample - loss: 0.0826 - acc: 0.9731 - val_loss: 0.1073 - val_acc: 0.9565\n",
            "Epoch 42/50\n",
            "409/409 [==============================] - 0s 94us/sample - loss: 0.0810 - acc: 0.9756 - val_loss: 0.1056 - val_acc: 0.9565\n",
            "Epoch 43/50\n",
            "409/409 [==============================] - 0s 90us/sample - loss: 0.0796 - acc: 0.9756 - val_loss: 0.1037 - val_acc: 0.9565\n",
            "Epoch 44/50\n",
            "409/409 [==============================] - 0s 105us/sample - loss: 0.0783 - acc: 0.9756 - val_loss: 0.1018 - val_acc: 0.9565\n",
            "Epoch 45/50\n",
            "409/409 [==============================] - 0s 93us/sample - loss: 0.0770 - acc: 0.9756 - val_loss: 0.0998 - val_acc: 0.9783\n",
            "Epoch 46/50\n",
            "409/409 [==============================] - 0s 94us/sample - loss: 0.0756 - acc: 0.9756 - val_loss: 0.0981 - val_acc: 0.9783\n",
            "Epoch 47/50\n",
            "409/409 [==============================] - 0s 86us/sample - loss: 0.0743 - acc: 0.9756 - val_loss: 0.0964 - val_acc: 0.9783\n",
            "Epoch 48/50\n",
            "409/409 [==============================] - 0s 95us/sample - loss: 0.0731 - acc: 0.9780 - val_loss: 0.0937 - val_acc: 0.9783\n",
            "Epoch 49/50\n",
            "409/409 [==============================] - 0s 90us/sample - loss: 0.0718 - acc: 0.9804 - val_loss: 0.0923 - val_acc: 0.9783\n",
            "Epoch 50/50\n",
            "409/409 [==============================] - 0s 95us/sample - loss: 0.0706 - acc: 0.9853 - val_loss: 0.0911 - val_acc: 0.9783\n"
          ],
          "name": "stdout"
        },
        {
          "output_type": "execute_result",
          "data": {
            "text/plain": [
              "<tensorflow.python.keras.callbacks.History at 0x7fd01897c828>"
            ]
          },
          "metadata": {
            "tags": []
          },
          "execution_count": 9
        }
      ]
    },
    {
      "cell_type": "code",
      "metadata": {
        "id": "qFPRpiPha-5w",
        "colab_type": "code",
        "outputId": "b846f1ec-712a-427a-d1d7-a02ebb97fa44",
        "colab": {
          "base_uri": "https://localhost:8080/",
          "height": 34
        }
      },
      "source": [
        "test_loss, test_accuracy = model_MLP.evaluate(x=X_test_std, y=y_test)"
      ],
      "execution_count": 0,
      "outputs": [
        {
          "output_type": "stream",
          "text": [
            "114/114 [==============================] - 0s 64us/sample - loss: 0.1093 - acc: 0.9649\n"
          ],
          "name": "stdout"
        }
      ]
    },
    {
      "cell_type": "code",
      "metadata": {
        "id": "l5CYChv9btjQ",
        "colab_type": "code",
        "outputId": "d3dfad24-df23-4b5c-c22d-716ec8498ed7",
        "colab": {
          "base_uri": "https://localhost:8080/",
          "height": 34
        }
      },
      "source": [
        "print(test_loss, test_accuracy)"
      ],
      "execution_count": 0,
      "outputs": [
        {
          "output_type": "stream",
          "text": [
            "0.10926503740381777 0.9649123\n"
          ],
          "name": "stdout"
        }
      ]
    },
    {
      "cell_type": "markdown",
      "metadata": {
        "id": "LeVGbucl-7of",
        "colab_type": "text"
      },
      "source": [
        "HOUSING PRIZE"
      ]
    },
    {
      "cell_type": "code",
      "metadata": {
        "id": "-gEibiObbzyU",
        "colab_type": "code",
        "colab": {}
      },
      "source": [
        "import numpy as np\n",
        "import pandas as pd\n",
        "import matplotlib.pyplot as plt"
      ],
      "execution_count": 0,
      "outputs": []
    },
    {
      "cell_type": "code",
      "metadata": {
        "id": "BJxmKd0u_EeW",
        "colab_type": "code",
        "colab": {
          "base_uri": "https://localhost:8080/",
          "height": 62
        },
        "outputId": "c5ca6738-8549-453b-ddfb-44dbd07d76f4"
      },
      "source": [
        "# Load the dataset from sklearn\n",
        "from sklearn.datasets import load_boston\n",
        "# Importing both TensorFlow and its high level API - Keras.\n",
        "import tensorflow as tf\n",
        "from tensorflow import keras\n",
        "# Setting the random seeds for repeatability\n",
        "tf.set_random_seed(42)\n",
        "np.random.seed(42)\n",
        "# Loading the dataset\n",
        "bostonData = load_boston()\n",
        "# Load the attributes and target in X and y\n",
        "X = bostonData.data\n",
        "y = bostonData.target"
      ],
      "execution_count": 2,
      "outputs": [
        {
          "output_type": "display_data",
          "data": {
            "text/html": [
              "<p style=\"color: red;\">\n",
              "The default version of TensorFlow in Colab will soon switch to TensorFlow 2.x.<br>\n",
              "We recommend you <a href=\"https://www.tensorflow.org/guide/migrate\" target=\"_blank\">upgrade</a> now \n",
              "or ensure your notebook will continue to use TensorFlow 1.x via the <code>%tensorflow_version 1.x</code> magic:\n",
              "<a href=\"https://colab.research.google.com/notebooks/tensorflow_version.ipynb\" target=\"_blank\">more info</a>.</p>\n"
            ],
            "text/plain": [
              "<IPython.core.display.HTML object>"
            ]
          },
          "metadata": {
            "tags": []
          }
        }
      ]
    },
    {
      "cell_type": "code",
      "metadata": {
        "id": "orQNqWhU_Sh_",
        "colab_type": "code",
        "colab": {}
      },
      "source": [
        "# Split the data into 80% training and 20% testing\n",
        "from sklearn.model_selection import train_test_split\n",
        "X_train, X_test, y_train, y_test = train_test_split(X, y, test_size=0.2,\n",
        "random_state=42)\n",
        "# Feature scaling using Standardization\n",
        "from sklearn.preprocessing import StandardScaler\n",
        "sc = StandardScaler()\n",
        "# Training the feature scaling parameters\n",
        "sc.fit(X_train)\n",
        "# Applying transformations to both training and testing set\n",
        "X_train_std = sc.transform(X_train)\n",
        "X_test_std = sc.transform(X_test)"
      ],
      "execution_count": 0,
      "outputs": []
    },
    {
      "cell_type": "code",
      "metadata": {
        "id": "hFKN1HZO_aBY",
        "colab_type": "code",
        "colab": {
          "base_uri": "https://localhost:8080/",
          "height": 289
        },
        "outputId": "39f9ae3f-819b-403e-dced-b4e11c88542e"
      },
      "source": [
        "# Create neural network using keras API\n",
        "# Sequential() does linear stacking of layers\n",
        "model_MLP = keras.models.Sequential()\n",
        "# Hidden layer definitions\n",
        "model_MLP.add(keras.layers.Dense(units=5, activation='relu', input_shape=\n",
        "X_train.shape[1:]))\n",
        "# Output layer definitions\n",
        "model_MLP.add(keras.layers.Dense(units=1, activation='linear'))\n",
        "# Print the summary of network architecture\n",
        "model_MLP.summary()"
      ],
      "execution_count": 4,
      "outputs": [
        {
          "output_type": "stream",
          "text": [
            "WARNING:tensorflow:From /usr/local/lib/python3.6/dist-packages/tensorflow_core/python/ops/resource_variable_ops.py:1630: calling BaseResourceVariable.__init__ (from tensorflow.python.ops.resource_variable_ops) with constraint is deprecated and will be removed in a future version.\n",
            "Instructions for updating:\n",
            "If using Keras pass *_constraint arguments to layers.\n",
            "Model: \"sequential\"\n",
            "_________________________________________________________________\n",
            "Layer (type)                 Output Shape              Param #   \n",
            "=================================================================\n",
            "dense (Dense)                (None, 5)                 70        \n",
            "_________________________________________________________________\n",
            "dense_1 (Dense)              (None, 1)                 6         \n",
            "=================================================================\n",
            "Total params: 76\n",
            "Trainable params: 76\n",
            "Non-trainable params: 0\n",
            "_________________________________________________________________\n"
          ],
          "name": "stdout"
        }
      ]
    },
    {
      "cell_type": "code",
      "metadata": {
        "id": "Yn5QbJGx_kyf",
        "colab_type": "code",
        "colab": {}
      },
      "source": [
        "model_MLP.compile(loss='mse', optimizer='adam', metrics=['mae'])"
      ],
      "execution_count": 0,
      "outputs": []
    },
    {
      "cell_type": "code",
      "metadata": {
        "id": "s-jdNiWY_rhH",
        "colab_type": "code",
        "colab": {
          "base_uri": "https://localhost:8080/",
          "height": 1000
        },
        "outputId": "90838835-45f8-4bce-b7d8-1a0ce425fa93"
      },
      "source": [
        "model_MLP.fit(x=X_train_std, y=y_train, validation_split=0.1,epochs=50, batch_size=16)"
      ],
      "execution_count": 6,
      "outputs": [
        {
          "output_type": "stream",
          "text": [
            "Train on 363 samples, validate on 41 samples\n",
            "Epoch 1/50\n",
            "363/363 [==============================] - 0s 712us/sample - loss: 591.9115 - mean_absolute_error: 22.2844 - val_loss: 580.4660 - val_mean_absolute_error: 22.5036\n",
            "Epoch 2/50\n",
            "363/363 [==============================] - 0s 119us/sample - loss: 584.1359 - mean_absolute_error: 22.1163 - val_loss: 572.5298 - val_mean_absolute_error: 22.3348\n",
            "Epoch 3/50\n",
            "363/363 [==============================] - 0s 114us/sample - loss: 575.4931 - mean_absolute_error: 21.9328 - val_loss: 563.8963 - val_mean_absolute_error: 22.1495\n",
            "Epoch 4/50\n",
            "363/363 [==============================] - 0s 101us/sample - loss: 566.1672 - mean_absolute_error: 21.7305 - val_loss: 554.0829 - val_mean_absolute_error: 21.9445\n",
            "Epoch 5/50\n",
            "363/363 [==============================] - 0s 118us/sample - loss: 555.5924 - mean_absolute_error: 21.5051 - val_loss: 543.0719 - val_mean_absolute_error: 21.7120\n",
            "Epoch 6/50\n",
            "363/363 [==============================] - 0s 114us/sample - loss: 543.7451 - mean_absolute_error: 21.2544 - val_loss: 531.0671 - val_mean_absolute_error: 21.4587\n",
            "Epoch 7/50\n",
            "363/363 [==============================] - 0s 106us/sample - loss: 530.7165 - mean_absolute_error: 20.9818 - val_loss: 517.8653 - val_mean_absolute_error: 21.1815\n",
            "Epoch 8/50\n",
            "363/363 [==============================] - 0s 99us/sample - loss: 516.1676 - mean_absolute_error: 20.6692 - val_loss: 503.3562 - val_mean_absolute_error: 20.8697\n",
            "Epoch 9/50\n",
            "363/363 [==============================] - 0s 128us/sample - loss: 500.5656 - mean_absolute_error: 20.3330 - val_loss: 487.8004 - val_mean_absolute_error: 20.5361\n",
            "Epoch 10/50\n",
            "363/363 [==============================] - 0s 103us/sample - loss: 483.4704 - mean_absolute_error: 19.9611 - val_loss: 472.0730 - val_mean_absolute_error: 20.1863\n",
            "Epoch 11/50\n",
            "363/363 [==============================] - 0s 111us/sample - loss: 466.1712 - mean_absolute_error: 19.5772 - val_loss: 455.3302 - val_mean_absolute_error: 19.8120\n",
            "Epoch 12/50\n",
            "363/363 [==============================] - 0s 110us/sample - loss: 447.9830 - mean_absolute_error: 19.1574 - val_loss: 438.1280 - val_mean_absolute_error: 19.4128\n",
            "Epoch 13/50\n",
            "363/363 [==============================] - 0s 99us/sample - loss: 429.1864 - mean_absolute_error: 18.7185 - val_loss: 420.3255 - val_mean_absolute_error: 18.9806\n",
            "Epoch 14/50\n",
            "363/363 [==============================] - 0s 95us/sample - loss: 410.3097 - mean_absolute_error: 18.2516 - val_loss: 401.5882 - val_mean_absolute_error: 18.5133\n",
            "Epoch 15/50\n",
            "363/363 [==============================] - 0s 85us/sample - loss: 390.8170 - mean_absolute_error: 17.7532 - val_loss: 383.2035 - val_mean_absolute_error: 18.0400\n",
            "Epoch 16/50\n",
            "363/363 [==============================] - 0s 96us/sample - loss: 371.2966 - mean_absolute_error: 17.2437 - val_loss: 364.2465 - val_mean_absolute_error: 17.5407\n",
            "Epoch 17/50\n",
            "363/363 [==============================] - 0s 101us/sample - loss: 351.9978 - mean_absolute_error: 16.7122 - val_loss: 344.8616 - val_mean_absolute_error: 17.0144\n",
            "Epoch 18/50\n",
            "363/363 [==============================] - 0s 97us/sample - loss: 332.2986 - mean_absolute_error: 16.1548 - val_loss: 326.6453 - val_mean_absolute_error: 16.5187\n",
            "Epoch 19/50\n",
            "363/363 [==============================] - 0s 108us/sample - loss: 313.4142 - mean_absolute_error: 15.5968 - val_loss: 308.7452 - val_mean_absolute_error: 16.0099\n",
            "Epoch 20/50\n",
            "363/363 [==============================] - 0s 105us/sample - loss: 295.2741 - mean_absolute_error: 15.0284 - val_loss: 291.0519 - val_mean_absolute_error: 15.4867\n",
            "Epoch 21/50\n",
            "363/363 [==============================] - 0s 96us/sample - loss: 277.4095 - mean_absolute_error: 14.4683 - val_loss: 274.4735 - val_mean_absolute_error: 14.9714\n",
            "Epoch 22/50\n",
            "363/363 [==============================] - 0s 134us/sample - loss: 260.5959 - mean_absolute_error: 13.9047 - val_loss: 258.5265 - val_mean_absolute_error: 14.4542\n",
            "Epoch 23/50\n",
            "363/363 [==============================] - 0s 108us/sample - loss: 244.6231 - mean_absolute_error: 13.3478 - val_loss: 243.4387 - val_mean_absolute_error: 13.9417\n",
            "Epoch 24/50\n",
            "363/363 [==============================] - 0s 80us/sample - loss: 229.7045 - mean_absolute_error: 12.7916 - val_loss: 229.1221 - val_mean_absolute_error: 13.4272\n",
            "Epoch 25/50\n",
            "363/363 [==============================] - 0s 108us/sample - loss: 215.6233 - mean_absolute_error: 12.2720 - val_loss: 215.7784 - val_mean_absolute_error: 12.9252\n",
            "Epoch 26/50\n",
            "363/363 [==============================] - 0s 110us/sample - loss: 202.5999 - mean_absolute_error: 11.7795 - val_loss: 203.3384 - val_mean_absolute_error: 12.4322\n",
            "Epoch 27/50\n",
            "363/363 [==============================] - 0s 110us/sample - loss: 190.4430 - mean_absolute_error: 11.3091 - val_loss: 191.9298 - val_mean_absolute_error: 12.0012\n",
            "Epoch 28/50\n",
            "363/363 [==============================] - 0s 104us/sample - loss: 179.2226 - mean_absolute_error: 10.8708 - val_loss: 181.2844 - val_mean_absolute_error: 11.5844\n",
            "Epoch 29/50\n",
            "363/363 [==============================] - 0s 118us/sample - loss: 168.8182 - mean_absolute_error: 10.4620 - val_loss: 171.2503 - val_mean_absolute_error: 11.1676\n",
            "Epoch 30/50\n",
            "363/363 [==============================] - 0s 99us/sample - loss: 159.0495 - mean_absolute_error: 10.0786 - val_loss: 162.3332 - val_mean_absolute_error: 10.7784\n",
            "Epoch 31/50\n",
            "363/363 [==============================] - 0s 104us/sample - loss: 150.2296 - mean_absolute_error: 9.7524 - val_loss: 154.0479 - val_mean_absolute_error: 10.4029\n",
            "Epoch 32/50\n",
            "363/363 [==============================] - 0s 104us/sample - loss: 142.0789 - mean_absolute_error: 9.4286 - val_loss: 146.3848 - val_mean_absolute_error: 10.0412\n",
            "Epoch 33/50\n",
            "363/363 [==============================] - 0s 97us/sample - loss: 134.4756 - mean_absolute_error: 9.1485 - val_loss: 139.2458 - val_mean_absolute_error: 9.6871\n",
            "Epoch 34/50\n",
            "363/363 [==============================] - 0s 109us/sample - loss: 127.5135 - mean_absolute_error: 8.8802 - val_loss: 132.4723 - val_mean_absolute_error: 9.3345\n",
            "Epoch 35/50\n",
            "363/363 [==============================] - 0s 99us/sample - loss: 120.9343 - mean_absolute_error: 8.6190 - val_loss: 126.4461 - val_mean_absolute_error: 9.0112\n",
            "Epoch 36/50\n",
            "363/363 [==============================] - 0s 112us/sample - loss: 114.9610 - mean_absolute_error: 8.3723 - val_loss: 120.8066 - val_mean_absolute_error: 8.7027\n",
            "Epoch 37/50\n",
            "363/363 [==============================] - 0s 107us/sample - loss: 109.4308 - mean_absolute_error: 8.1624 - val_loss: 115.4780 - val_mean_absolute_error: 8.3941\n",
            "Epoch 38/50\n",
            "363/363 [==============================] - 0s 115us/sample - loss: 104.0760 - mean_absolute_error: 7.9416 - val_loss: 110.8136 - val_mean_absolute_error: 8.1220\n",
            "Epoch 39/50\n",
            "363/363 [==============================] - 0s 101us/sample - loss: 99.2128 - mean_absolute_error: 7.7313 - val_loss: 106.3006 - val_mean_absolute_error: 7.8604\n",
            "Epoch 40/50\n",
            "363/363 [==============================] - 0s 114us/sample - loss: 94.6233 - mean_absolute_error: 7.5380 - val_loss: 102.0435 - val_mean_absolute_error: 7.5980\n",
            "Epoch 41/50\n",
            "363/363 [==============================] - 0s 95us/sample - loss: 90.2165 - mean_absolute_error: 7.3429 - val_loss: 98.1484 - val_mean_absolute_error: 7.3719\n",
            "Epoch 42/50\n",
            "363/363 [==============================] - 0s 93us/sample - loss: 86.1696 - mean_absolute_error: 7.1655 - val_loss: 94.5962 - val_mean_absolute_error: 7.1612\n",
            "Epoch 43/50\n",
            "363/363 [==============================] - 0s 104us/sample - loss: 82.4090 - mean_absolute_error: 6.9924 - val_loss: 91.0712 - val_mean_absolute_error: 6.9508\n",
            "Epoch 44/50\n",
            "363/363 [==============================] - 0s 87us/sample - loss: 78.7556 - mean_absolute_error: 6.8166 - val_loss: 87.7909 - val_mean_absolute_error: 6.7640\n",
            "Epoch 45/50\n",
            "363/363 [==============================] - 0s 85us/sample - loss: 75.3655 - mean_absolute_error: 6.6494 - val_loss: 84.9922 - val_mean_absolute_error: 6.6101\n",
            "Epoch 46/50\n",
            "363/363 [==============================] - 0s 93us/sample - loss: 72.1735 - mean_absolute_error: 6.4931 - val_loss: 82.1094 - val_mean_absolute_error: 6.4531\n",
            "Epoch 47/50\n",
            "363/363 [==============================] - 0s 85us/sample - loss: 69.0929 - mean_absolute_error: 6.3478 - val_loss: 79.5693 - val_mean_absolute_error: 6.3187\n",
            "Epoch 48/50\n",
            "363/363 [==============================] - 0s 88us/sample - loss: 66.3151 - mean_absolute_error: 6.2049 - val_loss: 77.1600 - val_mean_absolute_error: 6.1871\n",
            "Epoch 49/50\n",
            "363/363 [==============================] - 0s 85us/sample - loss: 63.6027 - mean_absolute_error: 6.0737 - val_loss: 74.9758 - val_mean_absolute_error: 6.0831\n",
            "Epoch 50/50\n",
            "363/363 [==============================] - 0s 87us/sample - loss: 61.2040 - mean_absolute_error: 5.9428 - val_loss: 72.8745 - val_mean_absolute_error: 5.9855\n"
          ],
          "name": "stdout"
        },
        {
          "output_type": "execute_result",
          "data": {
            "text/plain": [
              "<tensorflow.python.keras.callbacks.History at 0x7f9bb21dc470>"
            ]
          },
          "metadata": {
            "tags": []
          },
          "execution_count": 6
        }
      ]
    },
    {
      "cell_type": "code",
      "metadata": {
        "id": "1ulNzwhv_xS2",
        "colab_type": "code",
        "colab": {
          "base_uri": "https://localhost:8080/",
          "height": 34
        },
        "outputId": "6d6d7531-3ddd-45de-80b0-373b2e290e72"
      },
      "source": [
        "test_loss, test_accuracy = model_MLP.evaluate(x=X_test_std, y=y_test)"
      ],
      "execution_count": 7,
      "outputs": [
        {
          "output_type": "stream",
          "text": [
            "102/102 [==============================] - 0s 90us/sample - loss: 49.8213 - mean_absolute_error: 5.2063\n"
          ],
          "name": "stdout"
        }
      ]
    },
    {
      "cell_type": "code",
      "metadata": {
        "id": "Pu8EUgS9_53b",
        "colab_type": "code",
        "colab": {
          "base_uri": "https://localhost:8080/",
          "height": 34
        },
        "outputId": "7d1fae98-dba8-49d1-e055-33a47c6b4dea"
      },
      "source": [
        "print(test_loss, test_accuracy)"
      ],
      "execution_count": 8,
      "outputs": [
        {
          "output_type": "stream",
          "text": [
            "49.82129714068245 5.2063465\n"
          ],
          "name": "stdout"
        }
      ]
    },
    {
      "cell_type": "markdown",
      "metadata": {
        "id": "RZF26-tb__uI",
        "colab_type": "text"
      },
      "source": [
        "WINE DATASET"
      ]
    },
    {
      "cell_type": "code",
      "metadata": {
        "id": "ispTphv3_-IO",
        "colab_type": "code",
        "colab": {}
      },
      "source": [
        "import numpy as np\n",
        "import pandas as pd\n",
        "import matplotlib.pyplot as plt\n",
        "from sklearn.datasets import load_wine\n",
        "import tensorflow as tf\n",
        "from tensorflow import keras"
      ],
      "execution_count": 0,
      "outputs": []
    },
    {
      "cell_type": "code",
      "metadata": {
        "id": "I2KIYd4HANzj",
        "colab_type": "code",
        "colab": {}
      },
      "source": [
        "# Setting the random seeds for repeatability\n",
        "tf.set_random_seed(42)\n",
        "np.random.seed(42)\n",
        "# Loading the dataset\n",
        "wineData = load_wine()\n",
        "\n",
        "# Load the attributes and target in X and y\n",
        "X = wineData.data\n",
        "y = wineData.target"
      ],
      "execution_count": 0,
      "outputs": []
    },
    {
      "cell_type": "code",
      "metadata": {
        "id": "ZiNdiBN4ASDV",
        "colab_type": "code",
        "colab": {}
      },
      "source": [
        "from sklearn.model_selection import train_test_split\n",
        "X_train, X_test, y_train, y_test = train_test_split(X, y, test_size=0.2,stratify=y, random_state=42)"
      ],
      "execution_count": 0,
      "outputs": []
    },
    {
      "cell_type": "code",
      "metadata": {
        "id": "gPXeaO6GAY70",
        "colab_type": "code",
        "colab": {}
      },
      "source": [
        "# Feature scaling using Standardization\n",
        "from sklearn.preprocessing import StandardScaler\n",
        "sc = StandardScaler()\n",
        "# Training the feature scaling parameters\n",
        "sc.fit(X_train)\n",
        "# Applying transformations to both training and testing set\n",
        "X_train_std = sc.transform(X_train)\n",
        "X_test_std = sc.transform(X_test)"
      ],
      "execution_count": 0,
      "outputs": []
    },
    {
      "cell_type": "code",
      "metadata": {
        "id": "u9sEhDg1Ad_R",
        "colab_type": "code",
        "colab": {
          "base_uri": "https://localhost:8080/",
          "height": 218
        },
        "outputId": "94ca91ef-e043-4590-e776-4d9518103a89"
      },
      "source": [
        "# Sequential() does linear stacking of layers\n",
        "model_MLP = keras.models.Sequential()\n",
        "# Hidden layer definitions\n",
        "model_MLP.add(keras.layers.Dense(units=5, activation='relu',\n",
        "input_shape= X_train.shape[1:]))\n",
        "# Output layer definitions\n",
        "model_MLP.add(keras.layers.Dense(units=3, activation='softmax'))\n",
        "\n",
        "# Print the summary of network architecture\n",
        "model_MLP.summary()"
      ],
      "execution_count": 13,
      "outputs": [
        {
          "output_type": "stream",
          "text": [
            "Model: \"sequential_1\"\n",
            "_________________________________________________________________\n",
            "Layer (type)                 Output Shape              Param #   \n",
            "=================================================================\n",
            "dense_2 (Dense)              (None, 5)                 70        \n",
            "_________________________________________________________________\n",
            "dense_3 (Dense)              (None, 3)                 18        \n",
            "=================================================================\n",
            "Total params: 88\n",
            "Trainable params: 88\n",
            "Non-trainable params: 0\n",
            "_________________________________________________________________\n"
          ],
          "name": "stdout"
        }
      ]
    },
    {
      "cell_type": "code",
      "metadata": {
        "id": "U-IVXZHpAjKI",
        "colab_type": "code",
        "colab": {}
      },
      "source": [
        "model_MLP.compile(loss='sparse_categorical_crossentropy',optimizer='adam', metrics=['accuracy'])"
      ],
      "execution_count": 0,
      "outputs": []
    },
    {
      "cell_type": "code",
      "metadata": {
        "id": "KFjs8_V_ApCM",
        "colab_type": "code",
        "colab": {
          "base_uri": "https://localhost:8080/",
          "height": 1000
        },
        "outputId": "698f4de3-c1d2-4658-8c3d-ea4c744fe0fa"
      },
      "source": [
        "model_MLP.fit(x=X_train_std, y=y_train, validation_split=0.1, epochs=50,batch_size=16)"
      ],
      "execution_count": 15,
      "outputs": [
        {
          "output_type": "stream",
          "text": [
            "Train on 127 samples, validate on 15 samples\n",
            "Epoch 1/50\n",
            "127/127 [==============================] - 0s 1ms/sample - loss: 2.1133 - acc: 0.0472 - val_loss: 1.9889 - val_acc: 0.0667\n",
            "Epoch 2/50\n",
            "127/127 [==============================] - 0s 128us/sample - loss: 2.0385 - acc: 0.0551 - val_loss: 1.9287 - val_acc: 0.0667\n",
            "Epoch 3/50\n",
            "127/127 [==============================] - 0s 111us/sample - loss: 1.9699 - acc: 0.0709 - val_loss: 1.8707 - val_acc: 0.1333\n",
            "Epoch 4/50\n",
            "127/127 [==============================] - 0s 142us/sample - loss: 1.9065 - acc: 0.0709 - val_loss: 1.8175 - val_acc: 0.0667\n",
            "Epoch 5/50\n",
            "127/127 [==============================] - 0s 103us/sample - loss: 1.8451 - acc: 0.0709 - val_loss: 1.7669 - val_acc: 0.0000e+00\n",
            "Epoch 6/50\n",
            "127/127 [==============================] - 0s 103us/sample - loss: 1.7857 - acc: 0.0866 - val_loss: 1.7194 - val_acc: 0.0000e+00\n",
            "Epoch 7/50\n",
            "127/127 [==============================] - 0s 108us/sample - loss: 1.7298 - acc: 0.0866 - val_loss: 1.6769 - val_acc: 0.0000e+00\n",
            "Epoch 8/50\n",
            "127/127 [==============================] - 0s 106us/sample - loss: 1.6761 - acc: 0.0945 - val_loss: 1.6367 - val_acc: 0.0000e+00\n",
            "Epoch 9/50\n",
            "127/127 [==============================] - 0s 133us/sample - loss: 1.6251 - acc: 0.1024 - val_loss: 1.6004 - val_acc: 0.0000e+00\n",
            "Epoch 10/50\n",
            "127/127 [==============================] - 0s 142us/sample - loss: 1.5756 - acc: 0.1102 - val_loss: 1.5668 - val_acc: 0.0000e+00\n",
            "Epoch 11/50\n",
            "127/127 [==============================] - 0s 153us/sample - loss: 1.5266 - acc: 0.1102 - val_loss: 1.5357 - val_acc: 0.0000e+00\n",
            "Epoch 12/50\n",
            "127/127 [==============================] - 0s 143us/sample - loss: 1.4818 - acc: 0.1181 - val_loss: 1.5080 - val_acc: 0.0000e+00\n",
            "Epoch 13/50\n",
            "127/127 [==============================] - 0s 157us/sample - loss: 1.4366 - acc: 0.1339 - val_loss: 1.4840 - val_acc: 0.0000e+00\n",
            "Epoch 14/50\n",
            "127/127 [==============================] - 0s 143us/sample - loss: 1.3946 - acc: 0.1417 - val_loss: 1.4585 - val_acc: 0.0000e+00\n",
            "Epoch 15/50\n",
            "127/127 [==============================] - 0s 152us/sample - loss: 1.3522 - acc: 0.1732 - val_loss: 1.4330 - val_acc: 0.0000e+00\n",
            "Epoch 16/50\n",
            "127/127 [==============================] - 0s 135us/sample - loss: 1.3104 - acc: 0.2126 - val_loss: 1.4083 - val_acc: 0.0000e+00\n",
            "Epoch 17/50\n",
            "127/127 [==============================] - 0s 145us/sample - loss: 1.2717 - acc: 0.2362 - val_loss: 1.3828 - val_acc: 0.0667\n",
            "Epoch 18/50\n",
            "127/127 [==============================] - 0s 152us/sample - loss: 1.2320 - acc: 0.2756 - val_loss: 1.3592 - val_acc: 0.0667\n",
            "Epoch 19/50\n",
            "127/127 [==============================] - 0s 142us/sample - loss: 1.1962 - acc: 0.3071 - val_loss: 1.3335 - val_acc: 0.0667\n",
            "Epoch 20/50\n",
            "127/127 [==============================] - 0s 145us/sample - loss: 1.1607 - acc: 0.3071 - val_loss: 1.3071 - val_acc: 0.1333\n",
            "Epoch 21/50\n",
            "127/127 [==============================] - 0s 161us/sample - loss: 1.1272 - acc: 0.3228 - val_loss: 1.2796 - val_acc: 0.2000\n",
            "Epoch 22/50\n",
            "127/127 [==============================] - 0s 162us/sample - loss: 1.0947 - acc: 0.3701 - val_loss: 1.2499 - val_acc: 0.2000\n",
            "Epoch 23/50\n",
            "127/127 [==============================] - 0s 151us/sample - loss: 1.0663 - acc: 0.3937 - val_loss: 1.2191 - val_acc: 0.2667\n",
            "Epoch 24/50\n",
            "127/127 [==============================] - 0s 147us/sample - loss: 1.0350 - acc: 0.4173 - val_loss: 1.1903 - val_acc: 0.2667\n",
            "Epoch 25/50\n",
            "127/127 [==============================] - 0s 145us/sample - loss: 1.0080 - acc: 0.4331 - val_loss: 1.1625 - val_acc: 0.4000\n",
            "Epoch 26/50\n",
            "127/127 [==============================] - 0s 134us/sample - loss: 0.9809 - acc: 0.4882 - val_loss: 1.1364 - val_acc: 0.4000\n",
            "Epoch 27/50\n",
            "127/127 [==============================] - 0s 221us/sample - loss: 0.9557 - acc: 0.5039 - val_loss: 1.1098 - val_acc: 0.4000\n",
            "Epoch 28/50\n",
            "127/127 [==============================] - 0s 150us/sample - loss: 0.9312 - acc: 0.5197 - val_loss: 1.0838 - val_acc: 0.4000\n",
            "Epoch 29/50\n",
            "127/127 [==============================] - 0s 153us/sample - loss: 0.9088 - acc: 0.5591 - val_loss: 1.0576 - val_acc: 0.5333\n",
            "Epoch 30/50\n",
            "127/127 [==============================] - 0s 153us/sample - loss: 0.8870 - acc: 0.5906 - val_loss: 1.0334 - val_acc: 0.5333\n",
            "Epoch 31/50\n",
            "127/127 [==============================] - 0s 140us/sample - loss: 0.8667 - acc: 0.6378 - val_loss: 1.0103 - val_acc: 0.5333\n",
            "Epoch 32/50\n",
            "127/127 [==============================] - 0s 148us/sample - loss: 0.8474 - acc: 0.6693 - val_loss: 0.9890 - val_acc: 0.5333\n",
            "Epoch 33/50\n",
            "127/127 [==============================] - 0s 170us/sample - loss: 0.8284 - acc: 0.6850 - val_loss: 0.9679 - val_acc: 0.5333\n",
            "Epoch 34/50\n",
            "127/127 [==============================] - 0s 218us/sample - loss: 0.8113 - acc: 0.6929 - val_loss: 0.9470 - val_acc: 0.6667\n",
            "Epoch 35/50\n",
            "127/127 [==============================] - 0s 173us/sample - loss: 0.7945 - acc: 0.7087 - val_loss: 0.9281 - val_acc: 0.6667\n",
            "Epoch 36/50\n",
            "127/127 [==============================] - 0s 189us/sample - loss: 0.7777 - acc: 0.7165 - val_loss: 0.9088 - val_acc: 0.6667\n",
            "Epoch 37/50\n",
            "127/127 [==============================] - 0s 186us/sample - loss: 0.7622 - acc: 0.7323 - val_loss: 0.8906 - val_acc: 0.6667\n",
            "Epoch 38/50\n",
            "127/127 [==============================] - 0s 176us/sample - loss: 0.7474 - acc: 0.7323 - val_loss: 0.8728 - val_acc: 0.6667\n",
            "Epoch 39/50\n",
            "127/127 [==============================] - 0s 148us/sample - loss: 0.7328 - acc: 0.7480 - val_loss: 0.8549 - val_acc: 0.6667\n",
            "Epoch 40/50\n",
            "127/127 [==============================] - 0s 153us/sample - loss: 0.7195 - acc: 0.7480 - val_loss: 0.8372 - val_acc: 0.6667\n",
            "Epoch 41/50\n",
            "127/127 [==============================] - 0s 144us/sample - loss: 0.7058 - acc: 0.7480 - val_loss: 0.8209 - val_acc: 0.7333\n",
            "Epoch 42/50\n",
            "127/127 [==============================] - 0s 158us/sample - loss: 0.6928 - acc: 0.7559 - val_loss: 0.8050 - val_acc: 0.7333\n",
            "Epoch 43/50\n",
            "127/127 [==============================] - 0s 168us/sample - loss: 0.6809 - acc: 0.7638 - val_loss: 0.7905 - val_acc: 0.7333\n",
            "Epoch 44/50\n",
            "127/127 [==============================] - 0s 145us/sample - loss: 0.6689 - acc: 0.7717 - val_loss: 0.7751 - val_acc: 0.7333\n",
            "Epoch 45/50\n",
            "127/127 [==============================] - 0s 177us/sample - loss: 0.6570 - acc: 0.7717 - val_loss: 0.7593 - val_acc: 0.7333\n",
            "Epoch 46/50\n",
            "127/127 [==============================] - 0s 146us/sample - loss: 0.6452 - acc: 0.7795 - val_loss: 0.7439 - val_acc: 0.7333\n",
            "Epoch 47/50\n",
            "127/127 [==============================] - 0s 161us/sample - loss: 0.6337 - acc: 0.7874 - val_loss: 0.7289 - val_acc: 0.7333\n",
            "Epoch 48/50\n",
            "127/127 [==============================] - 0s 154us/sample - loss: 0.6223 - acc: 0.7874 - val_loss: 0.7141 - val_acc: 0.7333\n",
            "Epoch 49/50\n",
            "127/127 [==============================] - 0s 179us/sample - loss: 0.6111 - acc: 0.7874 - val_loss: 0.6990 - val_acc: 0.7333\n",
            "Epoch 50/50\n",
            "127/127 [==============================] - 0s 148us/sample - loss: 0.6000 - acc: 0.7953 - val_loss: 0.6845 - val_acc: 0.7333\n"
          ],
          "name": "stdout"
        },
        {
          "output_type": "execute_result",
          "data": {
            "text/plain": [
              "<tensorflow.python.keras.callbacks.History at 0x7f9b510b4710>"
            ]
          },
          "metadata": {
            "tags": []
          },
          "execution_count": 15
        }
      ]
    },
    {
      "cell_type": "code",
      "metadata": {
        "id": "vlZkWbhYAtBv",
        "colab_type": "code",
        "colab": {
          "base_uri": "https://localhost:8080/",
          "height": 34
        },
        "outputId": "b12ec0ef-9785-4caf-8918-d3c58adf5611"
      },
      "source": [
        "test_loss, test_accuracy = model_MLP.evaluate(x=X_test_std, y=y_test)"
      ],
      "execution_count": 16,
      "outputs": [
        {
          "output_type": "stream",
          "text": [
            "36/36 [==============================] - 0s 177us/sample - loss: 0.5608 - acc: 0.7778\n"
          ],
          "name": "stdout"
        }
      ]
    },
    {
      "cell_type": "code",
      "metadata": {
        "id": "vTe10w2dAzVl",
        "colab_type": "code",
        "colab": {
          "base_uri": "https://localhost:8080/",
          "height": 34
        },
        "outputId": "c1534fdf-5066-48bc-8759-d27087e17416"
      },
      "source": [
        "print(test_loss, test_accuracy)"
      ],
      "execution_count": 17,
      "outputs": [
        {
          "output_type": "stream",
          "text": [
            "0.5608201887872484 0.7777778\n"
          ],
          "name": "stdout"
        }
      ]
    },
    {
      "cell_type": "markdown",
      "metadata": {
        "id": "FA5Z5wszA_rd",
        "colab_type": "text"
      },
      "source": [
        "IRIS"
      ]
    },
    {
      "cell_type": "code",
      "metadata": {
        "id": "HuHOPNpbA4NA",
        "colab_type": "code",
        "colab": {}
      },
      "source": [
        "import numpy as np\n",
        "import pandas as pd\n",
        "import matplotlib.pyplot as plt\n",
        "from sklearn.datasets import load_iris\n",
        "import tensorflow as tf\n",
        "from tensorflow import keras"
      ],
      "execution_count": 0,
      "outputs": []
    },
    {
      "cell_type": "code",
      "metadata": {
        "id": "IpxYkI3WBIjQ",
        "colab_type": "code",
        "colab": {}
      },
      "source": [
        "# Setting the random seeds for repeatability\n",
        "tf.set_random_seed(42)\n",
        "np.random.seed(42)\n",
        "\n",
        "# Loading the dataset\n",
        "irisData = load_iris()\n",
        "\n",
        "# Load the attributes and target in X and y\n",
        "X = irisData.data\n",
        "y = irisData.target\n",
        "\n",
        "# Split the data into 80% training and 20% testing\n",
        "from sklearn.model_selection import train_test_split\n",
        "X_train, X_test, y_train, y_test = train_test_split(X, y, test_size=0.2,stratify=y, random_state=42)"
      ],
      "execution_count": 0,
      "outputs": []
    },
    {
      "cell_type": "code",
      "metadata": {
        "id": "3uRTh4ruBQiu",
        "colab_type": "code",
        "colab": {}
      },
      "source": [
        "# Feature scaling using Standardization\n",
        "from sklearn.preprocessing import StandardScaler\n",
        "sc = StandardScaler()\n",
        "# Training the feature scaling parameters\n",
        "sc.fit(X_train)\n",
        "# Applying transformations to both training and testing set\n",
        "X_train_std = sc.transform(X_train)\n",
        "X_test_std = sc.transform(X_test)"
      ],
      "execution_count": 0,
      "outputs": []
    },
    {
      "cell_type": "code",
      "metadata": {
        "id": "huOITS5dBWXw",
        "colab_type": "code",
        "colab": {
          "base_uri": "https://localhost:8080/",
          "height": 218
        },
        "outputId": "02dc30ee-1e88-416e-e9cb-89b8e2039ae2"
      },
      "source": [
        "# Sequential() does linear stacking of layer\n",
        "model_MLP = keras.models.Sequential()\n",
        "# Hidden layer definitions\n",
        "model_MLP.add(keras.layers.Dense(units=15, activation='relu',\n",
        "input_shape= X_train.shape[1:]))\n",
        "# Output layer definitions\n",
        "model_MLP.add(keras.layers.Dense(units=3, activation='softmax'))\n",
        "\n",
        "# Print the summary of network architecture\n",
        "model_MLP.summary()"
      ],
      "execution_count": 21,
      "outputs": [
        {
          "output_type": "stream",
          "text": [
            "Model: \"sequential_2\"\n",
            "_________________________________________________________________\n",
            "Layer (type)                 Output Shape              Param #   \n",
            "=================================================================\n",
            "dense_4 (Dense)              (None, 15)                75        \n",
            "_________________________________________________________________\n",
            "dense_5 (Dense)              (None, 3)                 48        \n",
            "=================================================================\n",
            "Total params: 123\n",
            "Trainable params: 123\n",
            "Non-trainable params: 0\n",
            "_________________________________________________________________\n"
          ],
          "name": "stdout"
        }
      ]
    },
    {
      "cell_type": "code",
      "metadata": {
        "id": "i2GBNW3ZBdI_",
        "colab_type": "code",
        "colab": {}
      },
      "source": [
        "model_MLP.compile(loss='sparse_categorical_crossentropy',optimizer='adam', metrics=['accuracy'])"
      ],
      "execution_count": 0,
      "outputs": []
    },
    {
      "cell_type": "code",
      "metadata": {
        "id": "opSyXNxkBj_8",
        "colab_type": "code",
        "colab": {
          "base_uri": "https://localhost:8080/",
          "height": 1000
        },
        "outputId": "501badab-aac4-4035-c924-e42898fb8fa1"
      },
      "source": [
        "model_MLP.fit(x=X_train_std, y=y_train, validation_split=0.1,epochs=50, batch_size=16)"
      ],
      "execution_count": 23,
      "outputs": [
        {
          "output_type": "stream",
          "text": [
            "Train on 108 samples, validate on 12 samples\n",
            "Epoch 1/50\n",
            "108/108 [==============================] - 0s 1ms/sample - loss: 1.2538 - acc: 0.2315 - val_loss: 1.2818 - val_acc: 0.3333\n",
            "Epoch 2/50\n",
            "108/108 [==============================] - 0s 165us/sample - loss: 1.1989 - acc: 0.2870 - val_loss: 1.2092 - val_acc: 0.3333\n",
            "Epoch 3/50\n",
            "108/108 [==============================] - 0s 168us/sample - loss: 1.1452 - acc: 0.3241 - val_loss: 1.1438 - val_acc: 0.5000\n",
            "Epoch 4/50\n",
            "108/108 [==============================] - 0s 198us/sample - loss: 1.0947 - acc: 0.4352 - val_loss: 1.0828 - val_acc: 0.5833\n",
            "Epoch 5/50\n",
            "108/108 [==============================] - 0s 119us/sample - loss: 1.0475 - acc: 0.4815 - val_loss: 1.0254 - val_acc: 0.6667\n",
            "Epoch 6/50\n",
            "108/108 [==============================] - 0s 121us/sample - loss: 1.0052 - acc: 0.5370 - val_loss: 0.9717 - val_acc: 0.6667\n",
            "Epoch 7/50\n",
            "108/108 [==============================] - 0s 148us/sample - loss: 0.9633 - acc: 0.5648 - val_loss: 0.9244 - val_acc: 0.6667\n",
            "Epoch 8/50\n",
            "108/108 [==============================] - 0s 156us/sample - loss: 0.9225 - acc: 0.6019 - val_loss: 0.8829 - val_acc: 0.7500\n",
            "Epoch 9/50\n",
            "108/108 [==============================] - 0s 141us/sample - loss: 0.8879 - acc: 0.6389 - val_loss: 0.8420 - val_acc: 0.7500\n",
            "Epoch 10/50\n",
            "108/108 [==============================] - 0s 199us/sample - loss: 0.8534 - acc: 0.6481 - val_loss: 0.8066 - val_acc: 0.7500\n",
            "Epoch 11/50\n",
            "108/108 [==============================] - 0s 131us/sample - loss: 0.8209 - acc: 0.6852 - val_loss: 0.7760 - val_acc: 0.7500\n",
            "Epoch 12/50\n",
            "108/108 [==============================] - 0s 124us/sample - loss: 0.7901 - acc: 0.6944 - val_loss: 0.7484 - val_acc: 0.7500\n",
            "Epoch 13/50\n",
            "108/108 [==============================] - 0s 144us/sample - loss: 0.7623 - acc: 0.7130 - val_loss: 0.7254 - val_acc: 0.7500\n",
            "Epoch 14/50\n",
            "108/108 [==============================] - 0s 185us/sample - loss: 0.7369 - acc: 0.7222 - val_loss: 0.7033 - val_acc: 0.7500\n",
            "Epoch 15/50\n",
            "108/108 [==============================] - 0s 177us/sample - loss: 0.7121 - acc: 0.7593 - val_loss: 0.6837 - val_acc: 0.7500\n",
            "Epoch 16/50\n",
            "108/108 [==============================] - 0s 192us/sample - loss: 0.6895 - acc: 0.7778 - val_loss: 0.6668 - val_acc: 0.7500\n",
            "Epoch 17/50\n",
            "108/108 [==============================] - 0s 175us/sample - loss: 0.6682 - acc: 0.7778 - val_loss: 0.6509 - val_acc: 0.7500\n",
            "Epoch 18/50\n",
            "108/108 [==============================] - 0s 152us/sample - loss: 0.6483 - acc: 0.7870 - val_loss: 0.6370 - val_acc: 0.7500\n",
            "Epoch 19/50\n",
            "108/108 [==============================] - 0s 153us/sample - loss: 0.6298 - acc: 0.7870 - val_loss: 0.6244 - val_acc: 0.7500\n",
            "Epoch 20/50\n",
            "108/108 [==============================] - 0s 179us/sample - loss: 0.6122 - acc: 0.7870 - val_loss: 0.6129 - val_acc: 0.7500\n",
            "Epoch 21/50\n",
            "108/108 [==============================] - 0s 186us/sample - loss: 0.5960 - acc: 0.7963 - val_loss: 0.6027 - val_acc: 0.7500\n",
            "Epoch 22/50\n",
            "108/108 [==============================] - 0s 205us/sample - loss: 0.5808 - acc: 0.7963 - val_loss: 0.5927 - val_acc: 0.7500\n",
            "Epoch 23/50\n",
            "108/108 [==============================] - 0s 146us/sample - loss: 0.5662 - acc: 0.7963 - val_loss: 0.5834 - val_acc: 0.7500\n",
            "Epoch 24/50\n",
            "108/108 [==============================] - 0s 192us/sample - loss: 0.5521 - acc: 0.7963 - val_loss: 0.5747 - val_acc: 0.7500\n",
            "Epoch 25/50\n",
            "108/108 [==============================] - 0s 149us/sample - loss: 0.5397 - acc: 0.7870 - val_loss: 0.5687 - val_acc: 0.7500\n",
            "Epoch 26/50\n",
            "108/108 [==============================] - 0s 147us/sample - loss: 0.5272 - acc: 0.7963 - val_loss: 0.5613 - val_acc: 0.8333\n",
            "Epoch 27/50\n",
            "108/108 [==============================] - 0s 161us/sample - loss: 0.5148 - acc: 0.7963 - val_loss: 0.5546 - val_acc: 0.8333\n",
            "Epoch 28/50\n",
            "108/108 [==============================] - 0s 170us/sample - loss: 0.5043 - acc: 0.7963 - val_loss: 0.5503 - val_acc: 0.8333\n",
            "Epoch 29/50\n",
            "108/108 [==============================] - 0s 221us/sample - loss: 0.4938 - acc: 0.7963 - val_loss: 0.5448 - val_acc: 0.8333\n",
            "Epoch 30/50\n",
            "108/108 [==============================] - 0s 170us/sample - loss: 0.4839 - acc: 0.7963 - val_loss: 0.5397 - val_acc: 0.8333\n",
            "Epoch 31/50\n",
            "108/108 [==============================] - 0s 199us/sample - loss: 0.4745 - acc: 0.8056 - val_loss: 0.5341 - val_acc: 0.8333\n",
            "Epoch 32/50\n",
            "108/108 [==============================] - 0s 216us/sample - loss: 0.4658 - acc: 0.8056 - val_loss: 0.5295 - val_acc: 0.8333\n",
            "Epoch 33/50\n",
            "108/108 [==============================] - 0s 205us/sample - loss: 0.4575 - acc: 0.8056 - val_loss: 0.5262 - val_acc: 0.8333\n",
            "Epoch 34/50\n",
            "108/108 [==============================] - 0s 158us/sample - loss: 0.4496 - acc: 0.8148 - val_loss: 0.5236 - val_acc: 0.8333\n",
            "Epoch 35/50\n",
            "108/108 [==============================] - 0s 136us/sample - loss: 0.4417 - acc: 0.8241 - val_loss: 0.5188 - val_acc: 0.8333\n",
            "Epoch 36/50\n",
            "108/108 [==============================] - 0s 141us/sample - loss: 0.4345 - acc: 0.8241 - val_loss: 0.5148 - val_acc: 0.8333\n",
            "Epoch 37/50\n",
            "108/108 [==============================] - 0s 141us/sample - loss: 0.4274 - acc: 0.8241 - val_loss: 0.5103 - val_acc: 0.8333\n",
            "Epoch 38/50\n",
            "108/108 [==============================] - 0s 172us/sample - loss: 0.4209 - acc: 0.8241 - val_loss: 0.5064 - val_acc: 0.8333\n",
            "Epoch 39/50\n",
            "108/108 [==============================] - 0s 254us/sample - loss: 0.4144 - acc: 0.8241 - val_loss: 0.5023 - val_acc: 0.8333\n",
            "Epoch 40/50\n",
            "108/108 [==============================] - 0s 148us/sample - loss: 0.4083 - acc: 0.8241 - val_loss: 0.4985 - val_acc: 0.8333\n",
            "Epoch 41/50\n",
            "108/108 [==============================] - 0s 173us/sample - loss: 0.4025 - acc: 0.8333 - val_loss: 0.4942 - val_acc: 0.8333\n",
            "Epoch 42/50\n",
            "108/108 [==============================] - 0s 131us/sample - loss: 0.3969 - acc: 0.8333 - val_loss: 0.4907 - val_acc: 0.8333\n",
            "Epoch 43/50\n",
            "108/108 [==============================] - 0s 195us/sample - loss: 0.3913 - acc: 0.8333 - val_loss: 0.4861 - val_acc: 0.8333\n",
            "Epoch 44/50\n",
            "108/108 [==============================] - 0s 164us/sample - loss: 0.3860 - acc: 0.8333 - val_loss: 0.4818 - val_acc: 0.8333\n",
            "Epoch 45/50\n",
            "108/108 [==============================] - 0s 228us/sample - loss: 0.3808 - acc: 0.8333 - val_loss: 0.4775 - val_acc: 0.8333\n",
            "Epoch 46/50\n",
            "108/108 [==============================] - 0s 167us/sample - loss: 0.3758 - acc: 0.8426 - val_loss: 0.4725 - val_acc: 0.8333\n",
            "Epoch 47/50\n",
            "108/108 [==============================] - 0s 159us/sample - loss: 0.3711 - acc: 0.8426 - val_loss: 0.4685 - val_acc: 0.8333\n",
            "Epoch 48/50\n",
            "108/108 [==============================] - 0s 204us/sample - loss: 0.3665 - acc: 0.8519 - val_loss: 0.4639 - val_acc: 0.8333\n",
            "Epoch 49/50\n",
            "108/108 [==============================] - 0s 178us/sample - loss: 0.3617 - acc: 0.8611 - val_loss: 0.4601 - val_acc: 0.8333\n",
            "Epoch 50/50\n",
            "108/108 [==============================] - 0s 234us/sample - loss: 0.3575 - acc: 0.8611 - val_loss: 0.4562 - val_acc: 0.8333\n"
          ],
          "name": "stdout"
        },
        {
          "output_type": "execute_result",
          "data": {
            "text/plain": [
              "<tensorflow.python.keras.callbacks.History at 0x7f9b57829860>"
            ]
          },
          "metadata": {
            "tags": []
          },
          "execution_count": 23
        }
      ]
    },
    {
      "cell_type": "code",
      "metadata": {
        "id": "ws_i_9A4BpN4",
        "colab_type": "code",
        "colab": {
          "base_uri": "https://localhost:8080/",
          "height": 34
        },
        "outputId": "f6ccbbe2-d9c6-4762-9509-f056db362462"
      },
      "source": [
        "test_loss, test_accuracy = model_MLP.evaluate(x=X_test_std, y=y_test)"
      ],
      "execution_count": 24,
      "outputs": [
        {
          "output_type": "stream",
          "text": [
            "\r30/30 [==============================] - 0s 171us/sample - loss: 0.4218 - acc: 0.8000\n"
          ],
          "name": "stdout"
        }
      ]
    },
    {
      "cell_type": "code",
      "metadata": {
        "id": "dI0OdMMYBuhh",
        "colab_type": "code",
        "colab": {
          "base_uri": "https://localhost:8080/",
          "height": 34
        },
        "outputId": "c2c6fe1d-a814-455a-cd82-651b32799cc9"
      },
      "source": [
        "print(test_loss, test_accuracy)"
      ],
      "execution_count": 25,
      "outputs": [
        {
          "output_type": "stream",
          "text": [
            "0.4217681288719177 0.8\n"
          ],
          "name": "stdout"
        }
      ]
    },
    {
      "cell_type": "markdown",
      "metadata": {
        "id": "J2Tur8f-B7RH",
        "colab_type": "text"
      },
      "source": [
        "FOREST COVER"
      ]
    },
    {
      "cell_type": "code",
      "metadata": {
        "id": "LAD6SoLXBzgb",
        "colab_type": "code",
        "colab": {}
      },
      "source": [
        "import numpy as np\n",
        "import pandas as pd\n",
        "import matplotlib.pyplot as plt\n",
        "# Load the dataset from sklearn\n",
        "from sklearn.datasets import fetch_covtype\n",
        "# Importing both TensorFlow and its high level API - Keras.\n",
        "import tensorflow as tf\n",
        "from tensorflow import keras"
      ],
      "execution_count": 0,
      "outputs": []
    },
    {
      "cell_type": "code",
      "metadata": {
        "id": "JhkdYIwnB-Lo",
        "colab_type": "code",
        "colab": {}
      },
      "source": [
        "tf.set_random_seed(42)\n",
        "np.random.seed(42)"
      ],
      "execution_count": 0,
      "outputs": []
    },
    {
      "cell_type": "code",
      "metadata": {
        "id": "uzACB7THCFVs",
        "colab_type": "code",
        "colab": {
          "base_uri": "https://localhost:8080/",
          "height": 101
        },
        "outputId": "3df94041-64d0-44af-cba0-20a77843a3e2"
      },
      "source": [
        "X, y = fetch_covtype(return_X_y=True)\n",
        "print(type(X))\n",
        "print(X.shape)\n",
        "print(y.shape)\n",
        "X_10 = X[:,:10]\n",
        "print(X_10.shape)"
      ],
      "execution_count": 28,
      "outputs": [
        {
          "output_type": "stream",
          "text": [
            "Downloading https://ndownloader.figshare.com/files/5976039\n"
          ],
          "name": "stderr"
        },
        {
          "output_type": "stream",
          "text": [
            "<class 'numpy.ndarray'>\n",
            "(581012, 54)\n",
            "(581012,)\n",
            "(581012, 10)\n"
          ],
          "name": "stdout"
        }
      ]
    },
    {
      "cell_type": "code",
      "metadata": {
        "id": "_m8WrLc1CYfF",
        "colab_type": "code",
        "colab": {}
      },
      "source": [
        "from sklearn.model_selection import train_test_split\n",
        "X10_train, X10_test, y10_train, y10_test = train_test_split(X_10, y, test_size=0.1,stratify=y, random_state=42)"
      ],
      "execution_count": 0,
      "outputs": []
    },
    {
      "cell_type": "code",
      "metadata": {
        "id": "atQcBCApC4bN",
        "colab_type": "code",
        "colab": {
          "base_uri": "https://localhost:8080/",
          "height": 34
        },
        "outputId": "d432f814-a9a0-4aa4-a742-d5c86b420990"
      },
      "source": [
        "print(X10_test.shape)"
      ],
      "execution_count": 30,
      "outputs": [
        {
          "output_type": "stream",
          "text": [
            "(58102, 10)\n"
          ],
          "name": "stdout"
        }
      ]
    },
    {
      "cell_type": "code",
      "metadata": {
        "id": "bWruv8SdC9DZ",
        "colab_type": "code",
        "colab": {
          "base_uri": "https://localhost:8080/",
          "height": 50
        },
        "outputId": "97f4b6d7-0922-4ce9-dadb-08be08d73f1f"
      },
      "source": [
        "X = X10_test\n",
        "y = y10_test\n",
        "print(set(y))\n",
        "y = y-1\n",
        "print(set(y))"
      ],
      "execution_count": 31,
      "outputs": [
        {
          "output_type": "stream",
          "text": [
            "{1, 2, 3, 4, 5, 6, 7}\n",
            "{0, 1, 2, 3, 4, 5, 6}\n"
          ],
          "name": "stdout"
        }
      ]
    },
    {
      "cell_type": "code",
      "metadata": {
        "id": "4-cHucX_DMTZ",
        "colab_type": "code",
        "colab": {
          "base_uri": "https://localhost:8080/",
          "height": 34
        },
        "outputId": "253572f8-699e-4824-854d-51c516b57020"
      },
      "source": [
        "# Split the data into 80% training and 20% testing\n",
        "from sklearn.model_selection import train_test_split\n",
        "# While splitting, make an unbiased splitting\n",
        "X_train, X_test, y_train, y_test = train_test_split(X, y, test_size=0.2,\n",
        "stratify=y, random_state=42)\n",
        "\n",
        "# Feature scaling using Standardization\n",
        "from sklearn.preprocessing import StandardScaler\n",
        "sc = StandardScaler()\n",
        "# Training the feature scaling parameters\n",
        "sc.fit(X_train)"
      ],
      "execution_count": 32,
      "outputs": [
        {
          "output_type": "execute_result",
          "data": {
            "text/plain": [
              "StandardScaler(copy=True, with_mean=True, with_std=True)"
            ]
          },
          "metadata": {
            "tags": []
          },
          "execution_count": 32
        }
      ]
    },
    {
      "cell_type": "code",
      "metadata": {
        "id": "JthFCmKoDRlO",
        "colab_type": "code",
        "colab": {}
      },
      "source": [
        "X_train_std = sc.transform(X_train)\n",
        "X_test_std = sc.transform(X_test)"
      ],
      "execution_count": 0,
      "outputs": []
    },
    {
      "cell_type": "code",
      "metadata": {
        "id": "A8o3-uqnDYli",
        "colab_type": "code",
        "colab": {
          "base_uri": "https://localhost:8080/",
          "height": 218
        },
        "outputId": "aa065b9f-c2b3-4c75-a87d-79690dfb65c2"
      },
      "source": [
        "# Sequential() does linear stacking of layer\n",
        "model_MLP = keras.models.Sequential()\n",
        "# Hidden layer definitions\n",
        "model_MLP.add(keras.layers.Dense(units=25, activation='relu',\n",
        "input_shape= X_train.shape[1:]))\n",
        "# Output layer definitions\n",
        "model_MLP.add(keras.layers.Dense(units=7, activation='softmax'))\n",
        "\n",
        "# Print the summary of network architecture\n",
        "model_MLP.summary()"
      ],
      "execution_count": 34,
      "outputs": [
        {
          "output_type": "stream",
          "text": [
            "Model: \"sequential_3\"\n",
            "_________________________________________________________________\n",
            "Layer (type)                 Output Shape              Param #   \n",
            "=================================================================\n",
            "dense_6 (Dense)              (None, 25)                275       \n",
            "_________________________________________________________________\n",
            "dense_7 (Dense)              (None, 7)                 182       \n",
            "=================================================================\n",
            "Total params: 457\n",
            "Trainable params: 457\n",
            "Non-trainable params: 0\n",
            "_________________________________________________________________\n"
          ],
          "name": "stdout"
        }
      ]
    },
    {
      "cell_type": "code",
      "metadata": {
        "id": "FMGnCeKBDdFz",
        "colab_type": "code",
        "colab": {}
      },
      "source": [
        "model_MLP.compile(loss='sparse_categorical_crossentropy',optimizer='adam', metrics=['accuracy'])"
      ],
      "execution_count": 0,
      "outputs": []
    },
    {
      "cell_type": "code",
      "metadata": {
        "id": "Cmr4e2D0DkPw",
        "colab_type": "code",
        "colab": {
          "base_uri": "https://localhost:8080/",
          "height": 238
        },
        "outputId": "86aefca6-5aa0-41f8-da35-50958115bbfe"
      },
      "source": [
        "model_MLP.fit(x=X_train_std, y=y_train, validation_split=0.1, epochs=5,batch_size=16)"
      ],
      "execution_count": 36,
      "outputs": [
        {
          "output_type": "stream",
          "text": [
            "Train on 41832 samples, validate on 4649 samples\n",
            "Epoch 1/5\n",
            "41832/41832 [==============================] - 5s 117us/sample - loss: 0.8591 - acc: 0.6594 - val_loss: 0.7136 - val_acc: 0.6997\n",
            "Epoch 2/5\n",
            "41832/41832 [==============================] - 5s 110us/sample - loss: 0.7100 - acc: 0.6971 - val_loss: 0.6827 - val_acc: 0.7103\n",
            "Epoch 3/5\n",
            "41832/41832 [==============================] - 5s 109us/sample - loss: 0.6886 - acc: 0.7023 - val_loss: 0.6662 - val_acc: 0.7199\n",
            "Epoch 4/5\n",
            "41832/41832 [==============================] - 5s 110us/sample - loss: 0.6787 - acc: 0.7057 - val_loss: 0.6571 - val_acc: 0.7182\n",
            "Epoch 5/5\n",
            "41832/41832 [==============================] - 5s 110us/sample - loss: 0.6726 - acc: 0.7065 - val_loss: 0.6497 - val_acc: 0.7210\n"
          ],
          "name": "stdout"
        },
        {
          "output_type": "execute_result",
          "data": {
            "text/plain": [
              "<tensorflow.python.keras.callbacks.History at 0x7f9b578d6da0>"
            ]
          },
          "metadata": {
            "tags": []
          },
          "execution_count": 36
        }
      ]
    },
    {
      "cell_type": "code",
      "metadata": {
        "id": "y7tb3GUqDoyf",
        "colab_type": "code",
        "colab": {
          "base_uri": "https://localhost:8080/",
          "height": 34
        },
        "outputId": "a58bbd18-4287-4f29-c0fd-a9a55c06797d"
      },
      "source": [
        "test_loss, test_accuracy = model_MLP.evaluate(x=X_test_std, y=y_test)"
      ],
      "execution_count": 37,
      "outputs": [
        {
          "output_type": "stream",
          "text": [
            "11621/11621 [==============================] - 0s 25us/sample - loss: 0.6750 - acc: 0.7109\n"
          ],
          "name": "stdout"
        }
      ]
    },
    {
      "cell_type": "code",
      "metadata": {
        "id": "uLSdCgnVDvYi",
        "colab_type": "code",
        "colab": {
          "base_uri": "https://localhost:8080/",
          "height": 34
        },
        "outputId": "480d2285-872c-40ce-a1c0-814cccc94509"
      },
      "source": [
        "print(test_loss, test_accuracy)"
      ],
      "execution_count": 38,
      "outputs": [
        {
          "output_type": "stream",
          "text": [
            "0.6749779958957218 0.71086824\n"
          ],
          "name": "stdout"
        }
      ]
    },
    {
      "cell_type": "code",
      "metadata": {
        "id": "xxSlbUQgDz-T",
        "colab_type": "code",
        "colab": {}
      },
      "source": [
        ""
      ],
      "execution_count": 0,
      "outputs": []
    }
  ]
}